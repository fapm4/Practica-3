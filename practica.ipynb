{
 "cells": [
  {
   "cell_type": "code",
   "execution_count": 25,
   "metadata": {},
   "outputs": [],
   "source": [
    "import pyodbc\n",
    "from time import gmtime, strftime\n",
    "\n",
    "def conectaBase():\n",
    "    \n",
    "    try:\n",
    "        # Server dependerá de cada nombre del server en SQL Server cuando sea EXPRESS\n",
    "        # Database obviamente también\n",
    "        conn = pyodbc.connect('DRIVER={Devart ODBC Driver for Oracle};Direct=True;Host=oracle0.ugr.es;Service Name=practbd.oracle0.ugr.es;User ID=x8768206;Password=x8768206')\n",
    "        \n",
    "    except Exception as ex:\n",
    "        print(ex)\n",
    "        \n",
    "    return conn"
   ]
  },
  {
   "cell_type": "code",
   "execution_count": 26,
   "metadata": {},
   "outputs": [],
   "source": [
    "def obtenFecha():\n",
    "    fecha = str(strftime(\"%y-%m-%d\", gmtime()))\n",
    "    return \"'\" + fecha + \"'\""
   ]
  },
  {
   "cell_type": "code",
   "execution_count": 27,
   "metadata": {},
   "outputs": [],
   "source": [
    "def createTables(conn):\n",
    "\n",
    "    try:\n",
    "        createClase = '''CREATE TABLE CLASE( id_clase VARCHAR2(9),\n",
    "        tematica VARCHAR2(20), horario  DATE, \n",
    "        CONSTRAINT PK_CLASE PRIMARY KEY(id_clase))'''\n",
    "\n",
    "        with conn.cursor() as cursor: \n",
    "            cursor.execute(createClase)\n",
    "\n",
    "        createEntrenadores = '''CREATE TABLE ENTRENADORES(\n",
    "        DNI VARCHAR2(9),\n",
    "        NOMBRE VARCHAR2(20),\n",
    "        APELLIDOS VARCHAR2(20),\n",
    "        CORREO VARCHAR2(20),\n",
    "        DIRECCION VARCHAR2(20),\n",
    "        TELEFONO NUMBER,\n",
    "        ESPECIALIDAD VARCHAR2(30) CHECK (ESPECIALIDAD='Raqueta' OR ESPECIALIDAD='Equipo' OR ESPECIALIDAD='Personal') ,\n",
    "        SALARIO NUMBER,\n",
    "        CONSTRAINT PK_CLIENTES PRIMARY KEY (DNI),\n",
    "        CONSTRAINT UK_CLIENTES_CORREO UNIQUE (CORREO),\n",
    "        CONSTRAINT UK_CLIENTES_TELEFONO UNIQUE (TELEFONO))'''\n",
    "\n",
    "        with conn.cursor() as cursor: \n",
    "            cursor.execute(createEntrenadores)\n",
    "\n",
    "        createClientes = '''CREATE TABLE CLIENTES(\n",
    "        DNI VARCHAR2(9),\n",
    "        NOMBRE VARCHAR2(20),\n",
    "        APELLIDOS VARCHAR2(20),\n",
    "        CORREO VARCHAR2(20),\n",
    "        DIRECCION VARCHAR2(20),\n",
    "        TELEFONO NUMBER,\n",
    "        TIPO_SUSCRIPCION VARCHAR2(2),\n",
    "        CONSTRAINT PPK_CLIENTES PRIMARY KEY (DNI),\n",
    "        CONSTRAINT PUK_CLIENTES_CORREO UNIQUE (CORREO),\n",
    "        CONSTRAINT PUK_CLIENTES_TELEFONO UNIQUE (TELEFONO))'''\n",
    "\n",
    "        with conn.cursor() as cursor: \n",
    "            cursor.execute(createClientes)\n",
    "\n",
    "        createInstalacion = '''CREATE TABLE INSTALACION(\n",
    "        id_instalacion VARCHAR2(9),\n",
    "        aforo NUMBER,\n",
    "        CONSTRAINT IPK_CLASE PRIMARY KEY(id_instalacion))'''\n",
    "\n",
    "        with conn.cursor() as cursor: \n",
    "            cursor.execute(createInstalacion)\n",
    "\n",
    "        createReserva = '''CREATE TABLE RESERVA(\n",
    "        DNI VARCHAR2(9),\n",
    "        ID_INSTALACION VARCHAR2(9),\n",
    "        FECHA DATE,\n",
    "        CONSTRAINT PK_RESERVA PRIMARY KEY(DNI),\n",
    "        CONSTRAINT FK_RESERVA_INSTALACION FOREIGN KEY(ID_INSTALACION) REFERENCES INSTALACION)'''\n",
    "\n",
    "        with conn.cursor() as cursor: \n",
    "            cursor.execute(createReserva)\n",
    "        \n",
    "        createApuntado = '''CREATE TABLE APUNTADO(\n",
    "        DNI VARCHAR2(9),\n",
    "        ID_CLASE VARCHAR2(9),\n",
    "        CONSTRAINT PK_APUNTADO PRIMARY KEY(DNI),\n",
    "        CONSTRAINT FK_APUNTADO_CLASE FOREIGN KEY(ID_CLASE) REFERENCES CLASE)'''\n",
    "\n",
    "        with conn.cursor() as cursor: \n",
    "            cursor.execute(createApuntado)\n",
    "\n",
    "\n",
    "        createImparte = '''CREATE TABLE IMPARTE(\n",
    "        DNI VARCHAR2(9),\n",
    "        id_clase VARCHAR2(9),\n",
    "        CONSTRAINT EK_CLASEI FOREIGN KEY (id_clase) REFERENCES CLASE,\n",
    "        CONSTRAINT EK_DNI FOREIGN KEY (DNI) REFERENCES ENTRENADORES,\n",
    "        CONSTRAINT PK_IMPARTE PRIMARY KEY(id_clase,DNI))'''\n",
    "\n",
    "        with conn.cursor() as cursor: \n",
    "            cursor.execute(createImparte)\n",
    "\n",
    "        createLugar = '''CREATE TABLE LUGAR(\n",
    "        id_instalacion VARCHAR2(9),\n",
    "        id_clase VARCHAR2(9),\n",
    "        CONSTRAINT EK_CLASEL FOREIGN KEY (id_clase) REFERENCES CLASE,\n",
    "        CONSTRAINT EK_INSTALACION FOREIGN KEY (id_instalacion) REFERENCES INSTALACION,\n",
    "        CONSTRAINT PK_LUGAR PRIMARY KEY(id_clase,id_instalacion))'''\n",
    "\n",
    "        with conn.cursor() as cursor: \n",
    "            cursor.execute(createLugar)\n",
    "\n",
    "    except Exception as ex:\n",
    "        print(ex)\n",
    "    "
   ]
  },
  {
   "cell_type": "code",
   "execution_count": 28,
   "metadata": {},
   "outputs": [],
   "source": [
    "def dropTables(conn):\n",
    "    tablas=[\"LUGAR\", \"IMPARTE\", \"APUNTADO\", \"RESERVA\", \"INSTALACION\", \"CLIENTES\", \"ENTRENADORES\", \"CLASE\"]\n",
    "    i=0\n",
    "    while i < 8:\n",
    "        try:\n",
    "            vaciado = \"DROP TABLE \" + tablas[i]\n",
    "\n",
    "            with conn.cursor() as cursor:\n",
    "                cursor.execute(vaciado)\n",
    "\n",
    "        except Exception as ex:\n",
    "            print(ex)\n",
    "\n",
    "            with conn.cursor() as cursor:\n",
    "                cursor.rollback()\n",
    "        i+=1"
   ]
  },
  {
   "cell_type": "code",
   "execution_count": 29,
   "metadata": {},
   "outputs": [],
   "source": [
    "def main():\n",
    "    conn = conectaBase()\n",
    "    \n",
    "    dropTables(conn)\n",
    "    createTables(conn)\n",
    "    \n"
   ]
  },
  {
   "cell_type": "code",
   "execution_count": 30,
   "metadata": {},
   "outputs": [
    {
     "name": "stdout",
     "output_type": "stream",
     "text": [
      "INSTALACION\n"
     ]
    },
    {
     "ename": "Error",
     "evalue": "('HY000', '[HY000] [Devart][ODBC][Oracle]ORA-02449: unique/primary keys in table referenced by foreign keys\\n (0) (SQLExecDirectW)')",
     "output_type": "error",
     "traceback": [
      "\u001b[1;31m---------------------------------------------------------------------------\u001b[0m",
      "\u001b[1;31mError\u001b[0m                                     Traceback (most recent call last)",
      "\u001b[1;32m~\\AppData\\Local\\Temp/ipykernel_12676/451043146.py\u001b[0m in \u001b[0;36m<module>\u001b[1;34m\u001b[0m\n\u001b[1;32m----> 1\u001b[1;33m \u001b[0mmain\u001b[0m\u001b[1;33m(\u001b[0m\u001b[1;33m)\u001b[0m\u001b[1;33m\u001b[0m\u001b[1;33m\u001b[0m\u001b[0m\n\u001b[0m",
      "\u001b[1;32m~\\AppData\\Local\\Temp/ipykernel_12676/82499017.py\u001b[0m in \u001b[0;36mmain\u001b[1;34m()\u001b[0m\n\u001b[0;32m      2\u001b[0m     \u001b[0mconn\u001b[0m \u001b[1;33m=\u001b[0m \u001b[0mconectaBase\u001b[0m\u001b[1;33m(\u001b[0m\u001b[1;33m)\u001b[0m\u001b[1;33m\u001b[0m\u001b[1;33m\u001b[0m\u001b[0m\n\u001b[0;32m      3\u001b[0m \u001b[1;33m\u001b[0m\u001b[0m\n\u001b[1;32m----> 4\u001b[1;33m     \u001b[0mdropTables\u001b[0m\u001b[1;33m(\u001b[0m\u001b[0mconn\u001b[0m\u001b[1;33m)\u001b[0m\u001b[1;33m\u001b[0m\u001b[1;33m\u001b[0m\u001b[0m\n\u001b[0m\u001b[0;32m      5\u001b[0m     \u001b[0mcreateTables\u001b[0m\u001b[1;33m(\u001b[0m\u001b[0mconn\u001b[0m\u001b[1;33m)\u001b[0m\u001b[1;33m\u001b[0m\u001b[1;33m\u001b[0m\u001b[0m\n\u001b[0;32m      6\u001b[0m \u001b[1;33m\u001b[0m\u001b[0m\n",
      "\u001b[1;32m~\\AppData\\Local\\Temp/ipykernel_12676/3286818272.py\u001b[0m in \u001b[0;36mdropTables\u001b[1;34m(conn)\u001b[0m\n\u001b[0;32m      7\u001b[0m \u001b[1;33m\u001b[0m\u001b[0m\n\u001b[0;32m      8\u001b[0m         \u001b[1;32mwith\u001b[0m \u001b[0mconn\u001b[0m\u001b[1;33m.\u001b[0m\u001b[0mcursor\u001b[0m\u001b[1;33m(\u001b[0m\u001b[1;33m)\u001b[0m \u001b[1;32mas\u001b[0m \u001b[0mcursor\u001b[0m\u001b[1;33m:\u001b[0m\u001b[1;33m\u001b[0m\u001b[1;33m\u001b[0m\u001b[0m\n\u001b[1;32m----> 9\u001b[1;33m             \u001b[0mcursor\u001b[0m\u001b[1;33m.\u001b[0m\u001b[0mexecute\u001b[0m\u001b[1;33m(\u001b[0m\u001b[0mconsulta\u001b[0m\u001b[1;33m)\u001b[0m\u001b[1;33m\u001b[0m\u001b[1;33m\u001b[0m\u001b[0m\n\u001b[0m",
      "\u001b[1;31mError\u001b[0m: ('HY000', '[HY000] [Devart][ODBC][Oracle]ORA-02449: unique/primary keys in table referenced by foreign keys\\n (0) (SQLExecDirectW)')"
     ]
    }
   ],
   "source": [
    "main()"
   ]
  }
 ],
 "metadata": {
  "interpreter": {
   "hash": "5fc9bb91b1f027f1261034847e021690f206d26570b0cbe1b9f9dfc5c4de14fd"
  },
  "kernelspec": {
   "display_name": "Python 3.10.0 64-bit",
   "language": "python",
   "name": "python3"
  },
  "language_info": {
   "codemirror_mode": {
    "name": "ipython",
    "version": 3
   },
   "file_extension": ".py",
   "mimetype": "text/x-python",
   "name": "python",
   "nbconvert_exporter": "python",
   "pygments_lexer": "ipython3",
   "version": "3.9.9"
  },
  "orig_nbformat": 4
 },
 "nbformat": 4,
 "nbformat_minor": 2
}
